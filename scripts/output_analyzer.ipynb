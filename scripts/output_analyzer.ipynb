{
 "cells": [
  {
   "cell_type": "code",
   "execution_count": 38,
   "metadata": {},
   "outputs": [],
   "source": [
    "import urbs\n",
    "import pandas as pd\n",
    "import numpy as np\n",
    "\n",
    "import matplotlib.pyplot as plt\n",
    "import seaborn as sns\n",
    "sns.set_style('whitegrid')"
   ]
  },
  {
   "cell_type": "code",
   "execution_count": 79,
   "metadata": {},
   "outputs": [],
   "source": [
    "year = 2020"
   ]
  },
  {
   "cell_type": "code",
   "execution_count": 80,
   "metadata": {},
   "outputs": [],
   "source": [
    "# Reading output HDF file\n",
    "\n",
    "output_file = urbs.load(f'myopic/output/output_bayern_{year}.h5')._result"
   ]
  },
  {
   "cell_type": "code",
   "execution_count": 81,
   "metadata": {},
   "outputs": [
    {
     "data": {
      "text/plain": [
       "dict_keys(['cap_pro', 'cap_pro_new', 'cap_sto_c', 'cap_sto_c_new', 'cap_sto_p', 'cap_sto_p_new', 'com', 'com_buy', 'com_demand', 'com_env', 'com_sell', 'com_stock', 'com_supim', 'com_tuples', 'com_type', 'cost_type', 'costs', 'def_costs', 'def_initial_storage_state', 'def_intermittent_supply', 'def_partial_process_input', 'def_partial_process_output', 'def_process_input', 'def_process_output', 'def_storage_energy_power_ratio', 'def_storage_state', 'dt', 'e_co_buy', 'e_co_sell', 'e_co_stock', 'e_pro_in', 'e_pro_out', 'e_sto_con', 'e_sto_in', 'e_sto_out', 'obj', 'pro', 'pro_area_tuples', 'pro_input_tuples', 'pro_maxgrad_tuples', 'pro_output_tuples', 'pro_partial_input_tuples', 'pro_partial_output_tuples', 'pro_partial_tuples', 'pro_timevar_output_tuples', 'pro_tuples', 'res_area', 'res_buy_step', 'res_buy_total', 'res_env_step', 'res_env_total', 'res_global_co2_limit', 'res_process_capacity', 'res_process_maxgrad_lower', 'res_process_maxgrad_upper', 'res_process_throughput_by_capacity', 'res_sell_buy_symmetry', 'res_sell_step', 'res_sell_total', 'res_stock_step', 'res_stock_total', 'res_storage_capacity', 'res_storage_input_by_power', 'res_storage_output_by_power', 'res_storage_power', 'res_storage_state_by_capacity', 'res_storage_state_cyclicity', 'res_throughput_by_capacity_min', 'res_vertex', 'sit', 'sit_tuples', 'stf', 'sto', 'sto_ep_ratio_tuples', 'sto_init_bound_tuples', 'sto_tuples', 't', 'tau_pro', 'tm', 'weight'])"
      ]
     },
     "execution_count": 81,
     "metadata": {},
     "output_type": "execute_result"
    }
   ],
   "source": [
    "output_file.keys()"
   ]
  },
  {
   "cell_type": "code",
   "execution_count": 95,
   "metadata": {},
   "outputs": [],
   "source": [
    "urbs_cap_new = output_file['cap_pro_new']\n",
    "urbs_sto_c_new = output_file['cap_sto_c_new']\n",
    "urbs_sto_p_new = output_file['cap_sto_p_new']"
   ]
  },
  {
   "cell_type": "code",
   "execution_count": 117,
   "metadata": {},
   "outputs": [
    {
     "data": {
      "text/plain": [
       "sto                    com              \n",
       "Battery                Elec                     0.000000\n",
       "Process heat storage   Process heating A    22846.662309\n",
       "Pump storage           Elec                     0.000000\n",
       "Space heating storage  Space heating         2080.204868\n",
       "Name: cap_sto_c_new, dtype: float64"
      ]
     },
     "execution_count": 117,
     "metadata": {},
     "output_type": "execute_result"
    }
   ],
   "source": [
    "urbs_sto_c_new[year]['Bayern'].index.to_"
   ]
  },
  {
   "cell_type": "code",
   "execution_count": 107,
   "metadata": {},
   "outputs": [
    {
     "data": {
      "text/plain": [
       "0.0"
      ]
     },
     "execution_count": 107,
     "metadata": {},
     "output_type": "execute_result"
    }
   ],
   "source": [
    "urbs_sto_p_new[year]['Bayern']['Battery'][0]"
   ]
  },
  {
   "cell_type": "code",
   "execution_count": 83,
   "metadata": {},
   "outputs": [],
   "source": [
    "xls = pd.ExcelFile(f'myopic/input/input_bayern_{year}.xlsx')\n",
    "\n",
    "input_file = {}\n",
    "for sheet in xls.sheet_names:\n",
    "    input_file[sheet] = xls.parse(sheet_name = sheet, index_col = 0)"
   ]
  },
  {
   "cell_type": "code",
   "execution_count": 84,
   "metadata": {},
   "outputs": [],
   "source": [
    "xls = pd.ExcelFile(f'myopic/input/timeseries.xlsx')\n",
    "\n",
    "timeseries = {}\n",
    "for sheet in xls.sheet_names:\n",
    "    timeseries[sheet] = xls.parse(sheet_name = sheet, index_col = 0)"
   ]
  },
  {
   "cell_type": "code",
   "execution_count": 86,
   "metadata": {},
   "outputs": [],
   "source": [
    "for process in input_file['Process']['Process'].unique():\n",
    "    input_file['Process'].loc[input_file['Process']['Process'] == process, 'inst-cap'] = urbs_cap_new[year][\"Bayern\"][process] + timeseries['retiring'][year+5][process]"
   ]
  }
 ],
 "metadata": {
  "kernelspec": {
   "display_name": "urbs",
   "language": "python",
   "name": "python3"
  },
  "language_info": {
   "codemirror_mode": {
    "name": "ipython",
    "version": 3
   },
   "file_extension": ".py",
   "mimetype": "text/x-python",
   "name": "python",
   "nbconvert_exporter": "python",
   "pygments_lexer": "ipython3",
   "version": "3.6.13"
  },
  "orig_nbformat": 4
 },
 "nbformat": 4,
 "nbformat_minor": 2
}
